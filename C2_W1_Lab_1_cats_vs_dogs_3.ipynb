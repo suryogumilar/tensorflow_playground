{
  "nbformat": 4,
  "nbformat_minor": 0,
  "metadata": {
    "colab": {
      "provenance": [],
      "authorship_tag": "ABX9TyP579gIJsFQxM6DydOmvmHd"
    },
    "kernelspec": {
      "name": "python3",
      "display_name": "Python 3"
    },
    "language_info": {
      "name": "python"
    },
    "accelerator": "GPU",
    "gpuClass": "standard"
  },
  "cells": [
    {
      "cell_type": "markdown",
      "source": [
        "# Image Data Generator\n",
        "\n",
        "How to Normalize, Center, and Standardize Image Pixels\n",
        "\n",
        "the references are taken from \n",
        "\n",
        " - https://github.com/https-deeplearning-ai/tensorflow-1-public/blob/main/C2/W1/ungraded_lab/C2_W1_Lab_1_cats_vs_dogs.ipynb\n",
        " - https://machinelearningmastery.com/how-to-normalize-center-and-standardize-images-with-the-imagedatagenerator-in-keras/"
      ],
      "metadata": {
        "id": "Ok0_RERfjIWU"
      }
    },
    {
      "cell_type": "code",
      "execution_count": 103,
      "metadata": {
        "id": "sxcPHzNBjA8A"
      },
      "outputs": [],
      "source": [
        "import zipfile\n",
        "import os\n",
        "import tensorflow as tf\n",
        "from tensorflow.keras.optimizers import RMSprop\n",
        "from tensorflow.keras.preprocessing.image import ImageDataGenerator\n",
        "from tensorflow.keras.preprocessing import image_dataset_from_directory # 'tis a function\n",
        "from tensorflow.keras.utils import load_img, img_to_array\n",
        "import matplotlib.pyplot as plt\n",
        "import matplotlib.image as mpimg\n",
        "import numpy as np\n",
        "from google.colab import files"
      ]
    },
    {
      "cell_type": "code",
      "source": [
        "!wget --no-check-certificate https://storage.googleapis.com/mledu-datasets/cats_and_dogs_filtered.zip"
      ],
      "metadata": {
        "colab": {
          "base_uri": "https://localhost:8080/"
        },
        "id": "M-lDdIqBmDpF",
        "outputId": "92792d90-d996-47d9-dbe4-85ff5d096cbe"
      },
      "execution_count": 104,
      "outputs": [
        {
          "output_type": "stream",
          "name": "stdout",
          "text": [
            "--2022-12-20 10:37:50--  https://storage.googleapis.com/mledu-datasets/cats_and_dogs_filtered.zip\n",
            "Resolving storage.googleapis.com (storage.googleapis.com)... 142.251.10.128, 142.251.12.128, 172.217.194.128, ...\n",
            "Connecting to storage.googleapis.com (storage.googleapis.com)|142.251.10.128|:443... connected.\n",
            "HTTP request sent, awaiting response... 200 OK\n",
            "Length: 68606236 (65M) [application/zip]\n",
            "Saving to: ‘cats_and_dogs_filtered.zip.1’\n",
            "\n",
            "cats_and_dogs_filte 100%[===================>]  65.43M  19.8MB/s    in 4.1s    \n",
            "\n",
            "2022-12-20 10:37:55 (15.8 MB/s) - ‘cats_and_dogs_filtered.zip.1’ saved [68606236/68606236]\n",
            "\n"
          ]
        }
      ]
    },
    {
      "cell_type": "code",
      "source": [
        "# Unzip the archive\n",
        "local_zip = './cats_and_dogs_filtered.zip'\n",
        "zip_ref = zipfile.ZipFile(local_zip, 'r')\n",
        "zip_ref.extractall()\n",
        "\n",
        "zip_ref.close()"
      ],
      "metadata": {
        "id": "UXj3jxqWmJyy"
      },
      "execution_count": 105,
      "outputs": []
    },
    {
      "cell_type": "code",
      "source": [
        "base_dir = 'cats_and_dogs_filtered'\n",
        "train_dir = os.path.join(base_dir, 'train')\n",
        "validation_dir = os.path.join(base_dir, 'validation')\n",
        "\n",
        "# Directory with training cat/dog pictures\n",
        "train_cats_dir = os.path.join(train_dir, 'cats')\n",
        "train_dogs_dir = os.path.join(train_dir, 'dogs')\n",
        "\n",
        "# Directory with validation cat/dog pictures\n",
        "validation_cats_dir = os.path.join(validation_dir, 'cats')\n",
        "validation_dogs_dir = os.path.join(validation_dir, 'dogs')\n",
        "\n",
        "print('base dir is:', base_dir)\n",
        "print('')\n",
        "\n",
        "print('train dir is :', train_dir)\n",
        "print('validation dir is :', validation_dir)\n",
        "\n",
        "print('')\n",
        "print('train cats dir is:', train_cats_dir)\n",
        "print('train dogs dir is:', train_dogs_dir)\n",
        "\n",
        "print()\n",
        "print('validation cats dir:', validation_cats_dir)\n",
        "print('validation dogs dir:', validation_dogs_dir)\n"
      ],
      "metadata": {
        "colab": {
          "base_uri": "https://localhost:8080/"
        },
        "id": "oBkJ4jbamKIr",
        "outputId": "09cdda6d-7009-49bb-cb2a-882aee205f0b"
      },
      "execution_count": 106,
      "outputs": [
        {
          "output_type": "stream",
          "name": "stdout",
          "text": [
            "base dir is: cats_and_dogs_filtered\n",
            "\n",
            "train dir is : cats_and_dogs_filtered/train\n",
            "validation dir is : cats_and_dogs_filtered/validation\n",
            "\n",
            "train cats dir is: cats_and_dogs_filtered/train/cats\n",
            "train dogs dir is: cats_and_dogs_filtered/train/dogs\n",
            "\n",
            "validation cats dir: cats_and_dogs_filtered/validation/cats\n",
            "validation dogs dir: cats_and_dogs_filtered/validation/dogs\n"
          ]
        }
      ]
    },
    {
      "cell_type": "markdown",
      "source": [
        "## Image data generator\n",
        "\n",
        "The three main types of pixel scaling techniques supported by the ImageDataGenerator class are as follows:\n",
        "\n",
        " - **Pixel Normalization**: scale pixel values to the range 0-1.\n",
        " - **Pixel Centering**: scale pixel values to have a zero mean.\n",
        " - **Pixel Standardization**: scale pixel values to have a zero mean and unit variance\n",
        "\n",
        "The pixel standardization is supported at two levels: either per-image (called sample-wise) or per-dataset (called feature-wise). Specifically, the mean and/or mean and standard deviation statistics required to standardize pixel values can be calculated from the pixel values in each image only (sample-wise) or across the entire training dataset (feature-wise).\n",
        "\n",
        "\n",
        "### Pixel Normalization: scale pixel values to the range 0-1.\n",
        "\n",
        "Rescaling pixel values from the range of 0-255 to the range 0-1. Scaling data to the range of 0-1 is traditionally referred to as **normalization**. Achieved by setting the rescale argument to a ratio by which each pixel can be multiplied to achieve the desired range, in this case, the ratio is 1/255.\n",
        "\n"
      ],
      "metadata": {
        "id": "IZhtUshYmSLo"
      }
    },
    {
      "cell_type": "code",
      "source": [
        "\n",
        "# All images will be rescaled by 1./255.\n",
        "train_datagen = ImageDataGenerator( rescale = 1.0/255. )\n",
        "test_datagen  = ImageDataGenerator( rescale = 1.0/255. )\n",
        "\n",
        "## The ImageDataGenerator does not need to be fit in this case because there are no global statistics that need to be calculated.\n",
        "\n",
        "# --------------------\n",
        "# Flow training images in batches of 20 using train_datagen generator\n",
        "# --------------------\n",
        "train_generator = train_datagen.flow_from_directory(train_dir,\n",
        "                                                    batch_size=20,\n",
        "                                                    class_mode='binary',\n",
        "                                                    target_size=(150, 150))     \n",
        "# --------------------\n",
        "# Flow validation images in batches of 20 using test_datagen generator\n",
        "# --------------------\n",
        "validation_generator =  test_datagen.flow_from_directory(validation_dir,\n",
        "                                                         batch_size=20,\n",
        "                                                         class_mode  = 'binary',\n",
        "                                                         target_size = (150, 150))"
      ],
      "metadata": {
        "colab": {
          "base_uri": "https://localhost:8080/"
        },
        "id": "Bsx46VDHmPoC",
        "outputId": "8343e8a0-a008-466b-8502-0a87c05c62a0"
      },
      "execution_count": 107,
      "outputs": [
        {
          "output_type": "stream",
          "name": "stdout",
          "text": [
            "Found 2000 images belonging to 2 classes.\n",
            "Found 1000 images belonging to 2 classes.\n"
          ]
        }
      ]
    },
    {
      "cell_type": "code",
      "source": [
        "print('Batches train=%d, test=%d' % (len(train_generator), len(validation_generator)))"
      ],
      "metadata": {
        "colab": {
          "base_uri": "https://localhost:8080/"
        },
        "id": "3EChA64CoHlo",
        "outputId": "18b971f4-e906-4d06-8cc0-382ac02af3af"
      },
      "execution_count": 108,
      "outputs": [
        {
          "output_type": "stream",
          "name": "stdout",
          "text": [
            "Batches train=100, test=50\n"
          ]
        }
      ]
    },
    {
      "cell_type": "markdown",
      "source": [
        "2000 images in training set, with batch size =20 then the total batches for train is 2000/20 = 100\n",
        "\n",
        "and for validation set, 1000 images with 20 batch size then there is 50 batches"
      ],
      "metadata": {
        "id": "c9A_jK_aoYO7"
      }
    },
    {
      "cell_type": "code",
      "source": [
        "# confirm the scaling works\n",
        "batchX, batchy = train_generator.next()\n",
        "print('Batch shape=%s, min=%.3f, max=%.3f' % (batchX.shape, batchX.min(), batchX.max()))\n",
        "\n",
        "batchX, batchy = validation_generator.next()\n",
        "print('Batch shape=%s, min=%.3f, max=%.3f' % (batchX.shape, batchX.min(), batchX.max()))"
      ],
      "metadata": {
        "colab": {
          "base_uri": "https://localhost:8080/"
        },
        "id": "i8wfPXVGoP9D",
        "outputId": "3e2da8db-b671-4f47-8981-8408df181aa2"
      },
      "execution_count": 109,
      "outputs": [
        {
          "output_type": "stream",
          "name": "stdout",
          "text": [
            "Batch shape=(20, 150, 150, 3), min=0.000, max=1.000\n",
            "Batch shape=(20, 150, 150, 3), min=0.000, max=1.000\n"
          ]
        }
      ]
    },
    {
      "cell_type": "markdown",
      "source": [
        "#### building small model "
      ],
      "metadata": {
        "id": "3_gQPEO3pMfT"
      }
    },
    {
      "cell_type": "code",
      "source": [
        "def create_model():\n",
        "  ## set seed so that model has same 'common ground' (it node's weight and bias are the same value on each creation)\n",
        "  tf.random.set_seed(10)\n",
        "  '''Creates a CNN with 4 convolutional layers'''\n",
        "  model = tf.keras.models.Sequential([\n",
        "      tf.keras.layers.Conv2D(32, (3,3), activation='relu', input_shape=(150, 150, 3)),\n",
        "      tf.keras.layers.MaxPooling2D(2, 2),\n",
        "      tf.keras.layers.Conv2D(64, (3,3), activation='relu'),\n",
        "      tf.keras.layers.MaxPooling2D(2,2),\n",
        "      tf.keras.layers.Conv2D(128, (3,3), activation='relu'),\n",
        "      tf.keras.layers.MaxPooling2D(2,2),\n",
        "      tf.keras.layers.Conv2D(128, (3,3), activation='relu'),\n",
        "      tf.keras.layers.MaxPooling2D(2,2),\n",
        "      tf.keras.layers.Flatten(),\n",
        "      tf.keras.layers.Dense(512, activation='relu'),\n",
        "      tf.keras.layers.Dense(1, activation='sigmoid')\n",
        "  ])\n",
        "\n",
        "  model.compile(loss='binary_crossentropy',\n",
        "                optimizer=RMSprop(learning_rate=1e-4),\n",
        "                metrics=['accuracy'])\n",
        "  \n",
        "  return model"
      ],
      "metadata": {
        "id": "_GJPNSqjouub"
      },
      "execution_count": 110,
      "outputs": []
    },
    {
      "cell_type": "code",
      "source": [
        "\n",
        "model = create_model()\n",
        "model.summary()"
      ],
      "metadata": {
        "colab": {
          "base_uri": "https://localhost:8080/"
        },
        "id": "PodQQLaaqCL3",
        "outputId": "ee0f71e5-6953-4e5c-8eda-185d32e42283"
      },
      "execution_count": 111,
      "outputs": [
        {
          "output_type": "stream",
          "name": "stdout",
          "text": [
            "Model: \"sequential_6\"\n",
            "_________________________________________________________________\n",
            " Layer (type)                Output Shape              Param #   \n",
            "=================================================================\n",
            " conv2d_24 (Conv2D)          (None, 148, 148, 32)      896       \n",
            "                                                                 \n",
            " max_pooling2d_24 (MaxPoolin  (None, 74, 74, 32)       0         \n",
            " g2D)                                                            \n",
            "                                                                 \n",
            " conv2d_25 (Conv2D)          (None, 72, 72, 64)        18496     \n",
            "                                                                 \n",
            " max_pooling2d_25 (MaxPoolin  (None, 36, 36, 64)       0         \n",
            " g2D)                                                            \n",
            "                                                                 \n",
            " conv2d_26 (Conv2D)          (None, 34, 34, 128)       73856     \n",
            "                                                                 \n",
            " max_pooling2d_26 (MaxPoolin  (None, 17, 17, 128)      0         \n",
            " g2D)                                                            \n",
            "                                                                 \n",
            " conv2d_27 (Conv2D)          (None, 15, 15, 128)       147584    \n",
            "                                                                 \n",
            " max_pooling2d_27 (MaxPoolin  (None, 7, 7, 128)        0         \n",
            " g2D)                                                            \n",
            "                                                                 \n",
            " flatten_6 (Flatten)         (None, 6272)              0         \n",
            "                                                                 \n",
            " dense_12 (Dense)            (None, 512)               3211776   \n",
            "                                                                 \n",
            " dense_13 (Dense)            (None, 1)                 513       \n",
            "                                                                 \n",
            "=================================================================\n",
            "Total params: 3,453,121\n",
            "Trainable params: 3,453,121\n",
            "Non-trainable params: 0\n",
            "_________________________________________________________________\n"
          ]
        }
      ]
    },
    {
      "cell_type": "markdown",
      "source": [
        "##### for plotting history"
      ],
      "metadata": {
        "id": "Luw98-kMrSey"
      }
    },
    {
      "cell_type": "code",
      "source": [
        "def plot_loss_acc(history):\n",
        "  '''Plots the training and validation loss and accuracy from a history object'''\n",
        "  acc = history.history['accuracy']\n",
        "  val_acc = history.history['val_accuracy']\n",
        "  loss = history.history['loss']\n",
        "  val_loss = history.history['val_loss']\n",
        "\n",
        "  epochs = range(len(acc))\n",
        "\n",
        "  plt.plot(epochs, acc, 'bo', label='Training accuracy')\n",
        "  plt.plot(epochs, val_acc, 'b', label='Validation accuracy')\n",
        "  plt.title('Training and validation accuracy')\n",
        "\n",
        "  plt.figure()\n",
        "\n",
        "  plt.plot(epochs, loss, 'bo', label='Training Loss')\n",
        "  plt.plot(epochs, val_loss, 'b', label='Validation Loss')\n",
        "  plt.title('Training and validation loss')\n",
        "  plt.legend()\n",
        "\n",
        "  plt.show()"
      ],
      "metadata": {
        "id": "Ag8yOYcOrNDO"
      },
      "execution_count": 112,
      "outputs": []
    },
    {
      "cell_type": "markdown",
      "source": [
        "##### Train the model\n",
        "\n",
        "##### parameter for training"
      ],
      "metadata": {
        "id": "7n9v7vKGqVRx"
      }
    },
    {
      "cell_type": "code",
      "source": [
        "# Constant for epochs\n",
        "EPOCHS = 20\n",
        "\n",
        "train_steps_per_epoch = len(train_generator.labels)/train_generator.batch_size\n",
        "validation_steps_per_epoch = len(validation_generator.labels)/validation_generator.batch_size\n",
        "\n",
        "print('train_steps_per_epoch:', train_steps_per_epoch )\n",
        "\n",
        "print('validation_steps_per_epoch:', validation_steps_per_epoch )\n",
        "     \n"
      ],
      "metadata": {
        "colab": {
          "base_uri": "https://localhost:8080/"
        },
        "id": "clCeCeM0qIR7",
        "outputId": "7a0188cb-9507-47a6-cb91-5cdaed82a321"
      },
      "execution_count": 113,
      "outputs": [
        {
          "output_type": "stream",
          "name": "stdout",
          "text": [
            "train_steps_per_epoch: 100.0\n",
            "validation_steps_per_epoch: 50.0\n"
          ]
        }
      ]
    },
    {
      "cell_type": "code",
      "source": [
        "# Train the model\n",
        "history = model.fit(\n",
        "      train_generator,\n",
        "      steps_per_epoch=train_steps_per_epoch,  # 2000 images = batch_size * steps\n",
        "      epochs=EPOCHS,\n",
        "      validation_data=validation_generator,\n",
        "      validation_steps=validation_steps_per_epoch,  # 1000 images = batch_size * steps\n",
        "      verbose=2)"
      ],
      "metadata": {
        "colab": {
          "base_uri": "https://localhost:8080/"
        },
        "id": "X4DrKOQoq12U",
        "outputId": "b695952e-2ed4-4beb-a3fb-c6e4093b5e89"
      },
      "execution_count": 114,
      "outputs": [
        {
          "output_type": "stream",
          "name": "stdout",
          "text": [
            "Epoch 1/20\n",
            "100/100 - 10s - loss: 0.6929 - accuracy: 0.5260 - val_loss: 0.6739 - val_accuracy: 0.6250 - 10s/epoch - 95ms/step\n",
            "Epoch 2/20\n",
            "100/100 - 9s - loss: 0.6609 - accuracy: 0.6130 - val_loss: 0.6358 - val_accuracy: 0.6520 - 9s/epoch - 85ms/step\n",
            "Epoch 3/20\n",
            "100/100 - 8s - loss: 0.6202 - accuracy: 0.6580 - val_loss: 0.6265 - val_accuracy: 0.6520 - 8s/epoch - 84ms/step\n",
            "Epoch 4/20\n",
            "100/100 - 9s - loss: 0.5741 - accuracy: 0.7070 - val_loss: 0.5795 - val_accuracy: 0.6990 - 9s/epoch - 86ms/step\n",
            "Epoch 5/20\n",
            "100/100 - 8s - loss: 0.5336 - accuracy: 0.7205 - val_loss: 0.5760 - val_accuracy: 0.6910 - 8s/epoch - 85ms/step\n",
            "Epoch 6/20\n",
            "100/100 - 8s - loss: 0.5079 - accuracy: 0.7530 - val_loss: 0.5877 - val_accuracy: 0.6960 - 8s/epoch - 85ms/step\n",
            "Epoch 7/20\n",
            "100/100 - 9s - loss: 0.4816 - accuracy: 0.7665 - val_loss: 0.5594 - val_accuracy: 0.7240 - 9s/epoch - 89ms/step\n",
            "Epoch 8/20\n",
            "100/100 - 9s - loss: 0.4570 - accuracy: 0.7880 - val_loss: 0.5662 - val_accuracy: 0.7160 - 9s/epoch - 86ms/step\n",
            "Epoch 9/20\n",
            "100/100 - 10s - loss: 0.4234 - accuracy: 0.8045 - val_loss: 0.5587 - val_accuracy: 0.7260 - 10s/epoch - 97ms/step\n",
            "Epoch 10/20\n",
            "100/100 - 9s - loss: 0.4018 - accuracy: 0.8210 - val_loss: 0.5320 - val_accuracy: 0.7340 - 9s/epoch - 86ms/step\n",
            "Epoch 11/20\n",
            "100/100 - 9s - loss: 0.3762 - accuracy: 0.8335 - val_loss: 0.5514 - val_accuracy: 0.7300 - 9s/epoch - 85ms/step\n",
            "Epoch 12/20\n",
            "100/100 - 9s - loss: 0.3545 - accuracy: 0.8480 - val_loss: 0.5463 - val_accuracy: 0.7430 - 9s/epoch - 85ms/step\n",
            "Epoch 13/20\n",
            "100/100 - 9s - loss: 0.3284 - accuracy: 0.8650 - val_loss: 0.6080 - val_accuracy: 0.7120 - 9s/epoch - 86ms/step\n",
            "Epoch 14/20\n",
            "100/100 - 9s - loss: 0.3026 - accuracy: 0.8755 - val_loss: 0.5506 - val_accuracy: 0.7340 - 9s/epoch - 87ms/step\n",
            "Epoch 15/20\n",
            "100/100 - 9s - loss: 0.2829 - accuracy: 0.8875 - val_loss: 0.5562 - val_accuracy: 0.7530 - 9s/epoch - 87ms/step\n",
            "Epoch 16/20\n",
            "100/100 - 9s - loss: 0.2557 - accuracy: 0.9080 - val_loss: 0.6091 - val_accuracy: 0.7340 - 9s/epoch - 87ms/step\n",
            "Epoch 17/20\n",
            "100/100 - 9s - loss: 0.2398 - accuracy: 0.9060 - val_loss: 0.5992 - val_accuracy: 0.7490 - 9s/epoch - 87ms/step\n",
            "Epoch 18/20\n",
            "100/100 - 9s - loss: 0.2138 - accuracy: 0.9145 - val_loss: 0.5828 - val_accuracy: 0.7470 - 9s/epoch - 85ms/step\n",
            "Epoch 19/20\n",
            "100/100 - 9s - loss: 0.1862 - accuracy: 0.9335 - val_loss: 0.6451 - val_accuracy: 0.7410 - 9s/epoch - 86ms/step\n",
            "Epoch 20/20\n",
            "100/100 - 9s - loss: 0.1720 - accuracy: 0.9355 - val_loss: 0.6705 - val_accuracy: 0.7460 - 9s/epoch - 85ms/step\n"
          ]
        }
      ]
    },
    {
      "cell_type": "code",
      "source": [
        "# Plot training results\n",
        "plot_loss_acc(history)"
      ],
      "metadata": {
        "colab": {
          "base_uri": "https://localhost:8080/",
          "height": 545
        },
        "id": "dGwxFUJfrlnS",
        "outputId": "86843a66-4a3d-48be-d5f1-a549c5808397"
      },
      "execution_count": 115,
      "outputs": [
        {
          "output_type": "display_data",
          "data": {
            "text/plain": [
              "<Figure size 432x288 with 1 Axes>"
            ],
            "image/png": "[encoded data removed]"
          },
          "metadata": {
            "needs_background": "light"
          }
        },
        {
          "output_type": "display_data",
          "data": {
            "text/plain": [
              "<Figure size 432x288 with 1 Axes>"
            ],
            "image/png": "[encoded data removed]"
          },
          "metadata": {
            "needs_background": "light"
          }
        }
      ]
    },
    {
      "cell_type": "markdown",
      "source": [
        "the training accuracy is more than 90%, and the validation accuracy is in the 70%-80% range. This is a great example of overfitting -- which in short means that it can do very well with images it has seen before, but not so well with images it hasn't. One method to solve this problemis data augmentation but let us discuss it in another session. Now we try to do other scaling method and see if it helps in solvng overfitting and overall model performance i.e its accuracy"
      ],
      "metadata": {
        "id": "FjDiTI8Vsnqu"
      }
    },
    {
      "cell_type": "markdown",
      "source": [
        "### Center Images With ImageDataGenerator\n",
        "\n",
        "calculate the mean pixel value across the entire training dataset, then subtract it from each image. This is called centering and has the effect of centering the distribution of pixel values on zero: that is, the mean pixel value for centered images will be zero.\n",
        "\n",
        "#### featurewise\n",
        "\n",
        "we create temporary datagen to collect all the pixel values"
      ],
      "metadata": {
        "id": "yKHqo2-7tOwv"
      }
    },
    {
      "cell_type": "code",
      "source": [
        "train_datagen_tmp = ImageDataGenerator()\n",
        "test_datagen_tmp  = ImageDataGenerator()\n",
        "\n",
        "train_generator_tmp = train_datagen_tmp.flow_from_directory(train_dir,\n",
        "                                                    batch_size=2000, # all 2000 images loaded in one single batch\n",
        "                                                    class_mode='binary',\n",
        "                                                    target_size=(150, 150))     \n",
        "validation_generator_tmp =  test_datagen_tmp.flow_from_directory(validation_dir,\n",
        "                                                         batch_size=1000, # all 1000 images loaded in one single batch\n",
        "                                                         class_mode  = 'binary',\n",
        "                                                         target_size = (150, 150))\n",
        "\n",
        "print('Batches train=%d, test=%d' % (len(train_generator_tmp), len(validation_generator_tmp)))\n",
        "batchX_train, batchy_train = train_generator_tmp.next()\n",
        "print('Batch shape=%s, min=%.3f, max=%.3f mean=%.3f' % (batchX_train.shape, batchX_train.min(),\n",
        "                                                        batchX_train.max(), batchX_train.mean()))\n",
        "\n",
        "batchX_validation, batchy_validation = validation_generator_tmp.next()\n",
        "print('Batch shape=%s, min=%.3f, max=%.3f mean=%.3f' % (batchX_validation.shape, batchX_validation.min(),\n",
        "                                                        batchX_validation.max(), batchX_validation.mean()))\n"
      ],
      "metadata": {
        "colab": {
          "base_uri": "https://localhost:8080/"
        },
        "id": "7ISGQqPnwQ9R",
        "outputId": "3319e70a-33ce-473a-b1ff-1e161d8bd159"
      },
      "execution_count": 116,
      "outputs": [
        {
          "output_type": "stream",
          "name": "stdout",
          "text": [
            "Found 2000 images belonging to 2 classes.\n",
            "Found 1000 images belonging to 2 classes.\n",
            "Batches train=1, test=1\n",
            "Batch shape=(2000, 150, 150, 3), min=0.000, max=255.000 mean=114.850\n",
            "Batch shape=(1000, 150, 150, 3), min=0.000, max=255.000 mean=115.987\n"
          ]
        }
      ]
    },
    {
      "cell_type": "code",
      "source": [
        "# create generator that centers pixel values\n",
        "train_datagen = ImageDataGenerator( featurewise_center=True )\n",
        "test_datagen  = ImageDataGenerator( featurewise_center=True )\n",
        "print(batchX_train.shape)\n",
        "print(batchX_validation.shape)\n",
        "\n",
        "# calculate the mean on the training dataset\n",
        "train_datagen.fit(batchX_train)\n",
        "test_datagen.fit(batchX_validation)\n",
        "\n",
        "# print the mean calculated on the training dataset.\n",
        "print('train_datagen mean',  train_datagen.mean)\n",
        "print('test_datagen mean',  test_datagen.mean)\n"
      ],
      "metadata": {
        "colab": {
          "base_uri": "https://localhost:8080/"
        },
        "id": "xMKacSWos_CH",
        "outputId": "938b5cb7-183a-4a88-cf71-bacf5313933e"
      },
      "execution_count": 117,
      "outputs": [
        {
          "output_type": "stream",
          "name": "stdout",
          "text": [
            "(2000, 150, 150, 3)\n",
            "(1000, 150, 150, 3)\n",
            "train_datagen mean [[[95.44372 95.44372 95.44372]]]\n",
            "test_datagen mean [[[123.49026 114.23884 104.06879]]]\n"
          ]
        }
      ]
    },
    {
      "cell_type": "code",
      "source": [
        "# --------------------\n",
        "# Flow training images in batches of 20 using train_datagen generator\n",
        "# --------------------\n",
        "train_generator = train_datagen.flow_from_directory(train_dir,\n",
        "                                                    batch_size=20,\n",
        "                                                    class_mode='binary',\n",
        "                                                    target_size=(150, 150))     \n",
        "# --------------------\n",
        "# Flow validation images in batches of 20 using test_datagen generator\n",
        "# --------------------\n",
        "validation_generator =  test_datagen.flow_from_directory(validation_dir,\n",
        "                                                         batch_size=20,\n",
        "                                                         class_mode  = 'binary',\n",
        "                                                         target_size = (150, 150))"
      ],
      "metadata": {
        "colab": {
          "base_uri": "https://localhost:8080/"
        },
        "id": "tdDTzuHkvtPW",
        "outputId": "884ffd0a-c9a8-4695-aa14-f7f9b0b414fe"
      },
      "execution_count": 118,
      "outputs": [
        {
          "output_type": "stream",
          "name": "stdout",
          "text": [
            "Found 2000 images belonging to 2 classes.\n",
            "Found 1000 images belonging to 2 classes.\n"
          ]
        }
      ]
    },
    {
      "cell_type": "code",
      "source": [
        "# confirm the scaling works\n",
        "batchX, batchy = train_generator.next()\n",
        "print('Batch shape=%s, min=%.3f, max=%.3f mean=%.3f' % (batchX.shape, batchX.min(), batchX.max(), batchX.mean()))\n",
        "\n",
        "batchX, batchy = validation_generator.next()\n",
        "print('Batch shape=%s, min=%.3f, max=%.3f mean=%.3f' % (batchX.shape, batchX.min(), batchX.max(), batchX.mean()))"
      ],
      "metadata": {
        "colab": {
          "base_uri": "https://localhost:8080/"
        },
        "id": "CXM983SMyyU5",
        "outputId": "689c6f4b-c58c-48c3-ad75-7e3dc107b138"
      },
      "execution_count": 119,
      "outputs": [
        {
          "output_type": "stream",
          "name": "stdout",
          "text": [
            "Batch shape=(20, 150, 150, 3), min=-95.444, max=159.556 mean=21.550\n",
            "Batch shape=(20, 150, 150, 3), min=-123.490, max=150.931 mean=15.194\n"
          ]
        }
      ]
    },
    {
      "cell_type": "markdown",
      "source": [
        "Still not get it right..i know...but what we've done there is  the general step"
      ],
      "metadata": {
        "id": "OlKUNG2y6EAi"
      }
    },
    {
      "cell_type": "code",
      "source": [
        "# Constant for epochs\n",
        "EPOCHS = 20\n",
        "\n",
        "train_steps_per_epoch = len(train_generator.labels)/train_generator.batch_size\n",
        "validation_steps_per_epoch = len(validation_generator.labels)/validation_generator.batch_size\n",
        "\n",
        "print('train_steps_per_epoch:', train_steps_per_epoch )\n",
        "\n",
        "print('validation_steps_per_epoch:', validation_steps_per_epoch )\n",
        "     "
      ],
      "metadata": {
        "colab": {
          "base_uri": "https://localhost:8080/"
        },
        "id": "W0ybPn1V5qgw",
        "outputId": "d307d1de-4f33-4e16-bfaf-5fd52bb8618d"
      },
      "execution_count": 120,
      "outputs": [
        {
          "output_type": "stream",
          "name": "stdout",
          "text": [
            "train_steps_per_epoch: 100.0\n",
            "validation_steps_per_epoch: 50.0\n"
          ]
        }
      ]
    },
    {
      "cell_type": "code",
      "source": [
        "# Train the model\n",
        "model = create_model()\n",
        "history = model.fit(\n",
        "      train_generator,\n",
        "      steps_per_epoch=train_steps_per_epoch,  # 2000 images = batch_size * steps\n",
        "      epochs=EPOCHS,\n",
        "      validation_data=validation_generator,\n",
        "      validation_steps=validation_steps_per_epoch,  # 1000 images = batch_size * steps\n",
        "      verbose=2)"
      ],
      "metadata": {
        "colab": {
          "base_uri": "https://localhost:8080/"
        },
        "id": "FSz8Jpjz5uHf",
        "outputId": "599a351f-9ecb-4d75-b673-78c1c0569453"
      },
      "execution_count": 121,
      "outputs": [
        {
          "output_type": "stream",
          "name": "stdout",
          "text": [
            "Epoch 1/20\n",
            "100/100 - 10s - loss: 2.0795 - accuracy: 0.5675 - val_loss: 0.7180 - val_accuracy: 0.5890 - 10s/epoch - 101ms/step\n",
            "Epoch 2/20\n",
            "100/100 - 9s - loss: 0.6132 - accuracy: 0.6870 - val_loss: 0.6816 - val_accuracy: 0.6340 - 9s/epoch - 92ms/step\n",
            "Epoch 3/20\n",
            "100/100 - 9s - loss: 0.4285 - accuracy: 0.8010 - val_loss: 0.6742 - val_accuracy: 0.6790 - 9s/epoch - 90ms/step\n",
            "Epoch 4/20\n",
            "100/100 - 9s - loss: 0.3092 - accuracy: 0.8670 - val_loss: 0.6958 - val_accuracy: 0.6890 - 9s/epoch - 90ms/step\n",
            "Epoch 5/20\n",
            "100/100 - 11s - loss: 0.1935 - accuracy: 0.9340 - val_loss: 0.8127 - val_accuracy: 0.6840 - 11s/epoch - 113ms/step\n",
            "Epoch 6/20\n",
            "100/100 - 9s - loss: 0.1237 - accuracy: 0.9570 - val_loss: 1.1129 - val_accuracy: 0.6500 - 9s/epoch - 91ms/step\n",
            "Epoch 7/20\n",
            "100/100 - 9s - loss: 0.0903 - accuracy: 0.9700 - val_loss: 1.9767 - val_accuracy: 0.5810 - 9s/epoch - 90ms/step\n",
            "Epoch 8/20\n",
            "100/100 - 9s - loss: 0.0654 - accuracy: 0.9810 - val_loss: 1.2337 - val_accuracy: 0.6500 - 9s/epoch - 91ms/step\n",
            "Epoch 9/20\n",
            "100/100 - 9s - loss: 0.0526 - accuracy: 0.9825 - val_loss: 0.9387 - val_accuracy: 0.7090 - 9s/epoch - 91ms/step\n",
            "Epoch 10/20\n",
            "100/100 - 9s - loss: 0.0475 - accuracy: 0.9855 - val_loss: 1.1166 - val_accuracy: 0.6850 - 9s/epoch - 91ms/step\n",
            "Epoch 11/20\n",
            "100/100 - 9s - loss: 0.0359 - accuracy: 0.9905 - val_loss: 1.1794 - val_accuracy: 0.7020 - 9s/epoch - 91ms/step\n",
            "Epoch 12/20\n",
            "100/100 - 10s - loss: 0.0374 - accuracy: 0.9855 - val_loss: 1.1285 - val_accuracy: 0.7060 - 10s/epoch - 99ms/step\n",
            "Epoch 13/20\n",
            "100/100 - 9s - loss: 0.0453 - accuracy: 0.9895 - val_loss: 1.2180 - val_accuracy: 0.6960 - 9s/epoch - 90ms/step\n",
            "Epoch 14/20\n",
            "100/100 - 9s - loss: 0.0414 - accuracy: 0.9900 - val_loss: 1.2120 - val_accuracy: 0.7150 - 9s/epoch - 90ms/step\n",
            "Epoch 15/20\n",
            "100/100 - 9s - loss: 0.0365 - accuracy: 0.9890 - val_loss: 1.2454 - val_accuracy: 0.7030 - 9s/epoch - 91ms/step\n",
            "Epoch 16/20\n",
            "100/100 - 9s - loss: 0.0447 - accuracy: 0.9915 - val_loss: 1.2950 - val_accuracy: 0.7170 - 9s/epoch - 89ms/step\n",
            "Epoch 17/20\n",
            "100/100 - 9s - loss: 0.0267 - accuracy: 0.9935 - val_loss: 1.3934 - val_accuracy: 0.7060 - 9s/epoch - 92ms/step\n",
            "Epoch 18/20\n",
            "100/100 - 9s - loss: 0.0233 - accuracy: 0.9930 - val_loss: 1.4187 - val_accuracy: 0.7100 - 9s/epoch - 91ms/step\n",
            "Epoch 19/20\n",
            "100/100 - 9s - loss: 0.0377 - accuracy: 0.9935 - val_loss: 1.5795 - val_accuracy: 0.6960 - 9s/epoch - 91ms/step\n",
            "Epoch 20/20\n",
            "100/100 - 9s - loss: 0.0464 - accuracy: 0.9900 - val_loss: 1.3986 - val_accuracy: 0.7010 - 9s/epoch - 90ms/step\n"
          ]
        }
      ]
    },
    {
      "cell_type": "code",
      "source": [
        "# Plot training results\n",
        "plot_loss_acc(history)"
      ],
      "metadata": {
        "colab": {
          "base_uri": "https://localhost:8080/",
          "height": 545
        },
        "id": "PFoDJpi85064",
        "outputId": "4c42cc9c-a118-490e-acd5-c069f704f871"
      },
      "execution_count": 122,
      "outputs": [
        {
          "output_type": "display_data",
          "data": {
            "text/plain": [
              "<Figure size 432x288 with 1 Axes>"
            ],
            "image/png": "[encoded data removed]"
          },
          "metadata": {
            "needs_background": "light"
          }
        },
        {
          "output_type": "display_data",
          "data": {
            "text/plain": [
              "<Figure size 432x288 with 1 Axes>"
            ],
            "image/png": "[encoded data removed]"
          },
          "metadata": {
            "needs_background": "light"
          }
        }
      ]
    },
    {
      "cell_type": "markdown",
      "source": [
        "The training hits 99% but not much on the validation, the overfitting problem does not getting any better\n",
        "\n",
        "\n",
        "### sample-wise centering using ImageDataGenerator\n",
        "\n",
        "calculating of the mean pixel value for each image  "
      ],
      "metadata": {
        "id": "TszVQgQV68XC"
      }
    },
    {
      "cell_type": "code",
      "source": [
        "# create generator that centers pixel values\n",
        "train_datagen = ImageDataGenerator( samplewise_center=True )\n",
        "test_datagen  = ImageDataGenerator( samplewise_center=True )\n",
        "\n",
        "# It does not require any statistics to be calculated on the training dataset, so we skip the fit() part.\n",
        "# print the mean calculated on the training dataset.\n",
        "print('train_datagen mean',  train_datagen.mean)\n",
        "print('test_datagen mean',  test_datagen.mean)\n"
      ],
      "metadata": {
        "colab": {
          "base_uri": "https://localhost:8080/"
        },
        "id": "BkSkl2xt7Frj",
        "outputId": "b4a76dfc-fbaa-4fc2-ec7f-e171557da2ed"
      },
      "execution_count": 123,
      "outputs": [
        {
          "output_type": "stream",
          "name": "stdout",
          "text": [
            "train_datagen mean None\n",
            "test_datagen mean None\n"
          ]
        }
      ]
    },
    {
      "cell_type": "code",
      "source": [
        "# --------------------\n",
        "# Flow training images in batches of 20 using train_datagen generator\n",
        "# --------------------\n",
        "train_generator = train_datagen.flow_from_directory(train_dir,\n",
        "                                                    batch_size=20,\n",
        "                                                    class_mode='binary',\n",
        "                                                    target_size=(150, 150))     \n",
        "# --------------------\n",
        "# Flow validation images in batches of 20 using test_datagen generator\n",
        "# --------------------\n",
        "validation_generator =  test_datagen.flow_from_directory(validation_dir,\n",
        "                                                         batch_size=20,\n",
        "                                                         class_mode  = 'binary',\n",
        "                                                         target_size = (150, 150))\n",
        "\n",
        "\n",
        "batchX, batchy = train_generator.next()\n",
        "print('Batch shape=%s, min=%.3f, max=%.3f mean=%.3f' % (batchX.shape, batchX.min(), batchX.max(), batchX.mean()))\n",
        "\n",
        "batchX, batchy = validation_generator.next()\n",
        "print('Batch shape=%s, min=%.3f, max=%.3f mean=%.3f' % (batchX.shape, batchX.min(), batchX.max(), batchX.mean()))"
      ],
      "metadata": {
        "colab": {
          "base_uri": "https://localhost:8080/"
        },
        "id": "QmiN5Hli8T47",
        "outputId": "4b622209-4d4c-4e1c-b050-7e53945fd5b0"
      },
      "execution_count": 124,
      "outputs": [
        {
          "output_type": "stream",
          "name": "stdout",
          "text": [
            "Found 2000 images belonging to 2 classes.\n",
            "Found 1000 images belonging to 2 classes.\n",
            "Batch shape=(20, 150, 150, 3), min=-159.393, max=207.142 mean=0.000\n",
            "Batch shape=(20, 150, 150, 3), min=-165.936, max=177.933 mean=-0.000\n"
          ]
        }
      ]
    },
    {
      "cell_type": "markdown",
      "source": [
        "now with samplewise method we get the objective of centering that is mean=0"
      ],
      "metadata": {
        "id": "BBAWNJAS8ktM"
      }
    },
    {
      "cell_type": "code",
      "source": [
        "# Train the model\n",
        "model = create_model()\n",
        "history = model.fit(\n",
        "      train_generator,\n",
        "      steps_per_epoch=train_steps_per_epoch,  # 2000 images = batch_size * steps\n",
        "      epochs=EPOCHS,\n",
        "      validation_data=validation_generator,\n",
        "      validation_steps=validation_steps_per_epoch,  # 1000 images = batch_size * steps\n",
        "      verbose=2)"
      ],
      "metadata": {
        "colab": {
          "base_uri": "https://localhost:8080/"
        },
        "id": "74crA4K-8gMe",
        "outputId": "5cdccefb-9f31-4850-eb49-6a4e9b042f1d"
      },
      "execution_count": 125,
      "outputs": [
        {
          "output_type": "stream",
          "name": "stdout",
          "text": [
            "Epoch 1/20\n",
            "100/100 - 10s - loss: 2.0298 - accuracy: 0.5610 - val_loss: 0.6724 - val_accuracy: 0.6160 - 10s/epoch - 97ms/step\n",
            "Epoch 2/20\n",
            "100/100 - 9s - loss: 0.6063 - accuracy: 0.6765 - val_loss: 0.6462 - val_accuracy: 0.6510 - 9s/epoch - 88ms/step\n",
            "Epoch 3/20\n",
            "100/100 - 9s - loss: 0.4163 - accuracy: 0.8145 - val_loss: 0.7223 - val_accuracy: 0.6390 - 9s/epoch - 88ms/step\n",
            "Epoch 4/20\n",
            "100/100 - 9s - loss: 0.2620 - accuracy: 0.8945 - val_loss: 0.7872 - val_accuracy: 0.6650 - 9s/epoch - 87ms/step\n",
            "Epoch 5/20\n",
            "100/100 - 9s - loss: 0.1633 - accuracy: 0.9415 - val_loss: 0.7657 - val_accuracy: 0.6920 - 9s/epoch - 88ms/step\n",
            "Epoch 6/20\n",
            "100/100 - 9s - loss: 0.1051 - accuracy: 0.9690 - val_loss: 0.9339 - val_accuracy: 0.6770 - 9s/epoch - 87ms/step\n",
            "Epoch 7/20\n",
            "100/100 - 9s - loss: 0.0884 - accuracy: 0.9710 - val_loss: 1.0091 - val_accuracy: 0.6820 - 9s/epoch - 88ms/step\n",
            "Epoch 8/20\n",
            "100/100 - 9s - loss: 0.0571 - accuracy: 0.9845 - val_loss: 1.1343 - val_accuracy: 0.6560 - 9s/epoch - 89ms/step\n",
            "Epoch 9/20\n",
            "100/100 - 9s - loss: 0.0561 - accuracy: 0.9815 - val_loss: 1.0473 - val_accuracy: 0.6890 - 9s/epoch - 87ms/step\n",
            "Epoch 10/20\n",
            "100/100 - 9s - loss: 0.0417 - accuracy: 0.9840 - val_loss: 1.1460 - val_accuracy: 0.6980 - 9s/epoch - 90ms/step\n",
            "Epoch 11/20\n",
            "100/100 - 9s - loss: 0.0537 - accuracy: 0.9820 - val_loss: 1.0501 - val_accuracy: 0.6950 - 9s/epoch - 87ms/step\n",
            "Epoch 12/20\n",
            "100/100 - 9s - loss: 0.0249 - accuracy: 0.9925 - val_loss: 1.0771 - val_accuracy: 0.7280 - 9s/epoch - 88ms/step\n",
            "Epoch 13/20\n",
            "100/100 - 9s - loss: 0.0418 - accuracy: 0.9840 - val_loss: 1.1807 - val_accuracy: 0.6970 - 9s/epoch - 88ms/step\n",
            "Epoch 14/20\n",
            "100/100 - 9s - loss: 0.0202 - accuracy: 0.9950 - val_loss: 1.6561 - val_accuracy: 0.6630 - 9s/epoch - 88ms/step\n",
            "Epoch 15/20\n",
            "100/100 - 9s - loss: 0.0218 - accuracy: 0.9940 - val_loss: 1.6602 - val_accuracy: 0.6780 - 9s/epoch - 90ms/step\n",
            "Epoch 16/20\n",
            "100/100 - 9s - loss: 0.0502 - accuracy: 0.9870 - val_loss: 1.3804 - val_accuracy: 0.6760 - 9s/epoch - 88ms/step\n",
            "Epoch 17/20\n",
            "100/100 - 10s - loss: 0.0083 - accuracy: 0.9975 - val_loss: 2.0696 - val_accuracy: 0.6630 - 10s/epoch - 97ms/step\n",
            "Epoch 18/20\n",
            "100/100 - 9s - loss: 0.0250 - accuracy: 0.9925 - val_loss: 1.3570 - val_accuracy: 0.6860 - 9s/epoch - 88ms/step\n",
            "Epoch 19/20\n",
            "100/100 - 9s - loss: 0.0148 - accuracy: 0.9945 - val_loss: 1.4478 - val_accuracy: 0.6950 - 9s/epoch - 90ms/step\n",
            "Epoch 20/20\n",
            "100/100 - 9s - loss: 0.0186 - accuracy: 0.9915 - val_loss: 1.5836 - val_accuracy: 0.6780 - 9s/epoch - 88ms/step\n"
          ]
        }
      ]
    },
    {
      "cell_type": "code",
      "source": [
        "# Plot training results\n",
        "plot_loss_acc(history)"
      ],
      "metadata": {
        "colab": {
          "base_uri": "https://localhost:8080/",
          "height": 545
        },
        "id": "bWJgPrbe9BlJ",
        "outputId": "8fe8fc53-d1d5-47c9-8d9e-d9b053dcfe6c"
      },
      "execution_count": 126,
      "outputs": [
        {
          "output_type": "display_data",
          "data": {
            "text/plain": [
              "<Figure size 432x288 with 1 Axes>"
            ],
            "image/png": "[encoded data removed]"
          },
          "metadata": {
            "needs_background": "light"
          }
        },
        {
          "output_type": "display_data",
          "data": {
            "text/plain": [
              "<Figure size 432x288 with 1 Axes>"
            ],
            "image/png": "[encoded data removed]"
          },
          "metadata": {
            "needs_background": "light"
          }
        }
      ]
    },
    {
      "cell_type": "markdown",
      "source": [
        "The model performance still roughly the same as other method applied"
      ],
      "metadata": {
        "id": "5nl1Ax6N-U9s"
      }
    },
    {
      "cell_type": "markdown",
      "source": [
        "### Standardization using ImageDataGenerator\n",
        "\n",
        "Standardization is a data scaling technique that assumes that the distribution of the data is Gaussian and shifts the distribution of the data to have a mean of zero and a standard deviation of one.\n",
        "\n",
        "Data with this distribution is referred to as a standard Gaussian. It can be beneficial when training neural networks as the dataset sums to zero and the inputs are small values in the rough range of about -3.0 to 3.0 (e.g. 99.7 of the values will fall within three standard deviations of the mean).\n",
        "\n",
        "Standardization of images is achieved by subtracting the mean pixel value and dividing the result by the standard deviation of the pixel values.\n",
        "\n",
        "#### feature wise\n",
        "\n",
        "The mean and standard deviation statistics can be calculated on the training dataset"
      ],
      "metadata": {
        "id": "VrZlynWv9rs7"
      }
    },
    {
      "cell_type": "code",
      "source": [
        "train_datagen_tmp = ImageDataGenerator()\n",
        "test_datagen_tmp  = ImageDataGenerator()\n",
        "\n",
        "train_generator_tmp = train_datagen_tmp.flow_from_directory(train_dir,\n",
        "                                                    batch_size=2000, # all 2000 images loaded in one single batch\n",
        "                                                    class_mode='binary',\n",
        "                                                    target_size=(150, 150))     \n",
        "validation_generator_tmp =  test_datagen_tmp.flow_from_directory(validation_dir,\n",
        "                                                         batch_size=1000, # all 1000 images loaded in one single batch\n",
        "                                                         class_mode  = 'binary',\n",
        "                                                         target_size = (150, 150))\n",
        "\n",
        "print('Batches train=%d, test=%d' % (len(train_generator_tmp), len(validation_generator_tmp)))\n",
        "batchX_train, batchy_train = train_generator_tmp.next()\n",
        "print('Batch shape=%s, min=%.3f, max=%.3f mean=%.3f' % (batchX_train.shape, batchX_train.min(),\n",
        "                                                        batchX_train.max(), batchX_train.mean()))\n",
        "\n",
        "batchX_validation, batchy_validation = validation_generator_tmp.next()\n",
        "print('Batch shape=%s, min=%.3f, max=%.3f mean=%.3f' % (batchX_validation.shape, batchX_validation.min(),\n",
        "                                                        batchX_validation.max(), batchX_validation.mean()))\n",
        "\n",
        "\n",
        "\n",
        "# create generator that standardize pixel values\n",
        "train_datagen = ImageDataGenerator( featurewise_center=True, featurewise_std_normalization=True )\n",
        "test_datagen  = ImageDataGenerator( featurewise_center=True, featurewise_std_normalization=True )\n",
        "print(batchX_train.shape)\n",
        "print(batchX_validation.shape)\n",
        "\n",
        "# calculate the mean on the training dataset\n",
        "train_datagen.fit(batchX_train)\n",
        "test_datagen.fit(batchX_validation)\n",
        "\n",
        "# print the mean calculated on the training dataset.\n",
        "print('train_datagen mean',  train_datagen.mean)\n",
        "print('test_datagen mean',  test_datagen.mean)\n",
        "\n",
        "\n",
        "# --------------------\n",
        "# Flow training images in batches of 20 using train_datagen generator\n",
        "# --------------------\n",
        "train_generator = train_datagen.flow_from_directory(train_dir,\n",
        "                                                    batch_size=20,\n",
        "                                                    class_mode='binary',\n",
        "                                                    target_size=(150, 150))     \n",
        "# --------------------\n",
        "# Flow validation images in batches of 20 using test_datagen generator\n",
        "# --------------------\n",
        "validation_generator =  test_datagen.flow_from_directory(validation_dir,\n",
        "                                                         batch_size=20,\n",
        "                                                         class_mode  = 'binary',\n",
        "                                                         target_size = (150, 150))\n",
        "\n",
        "\n",
        "batchX, batchy = train_generator.next()\n",
        "print('Batch shape=%s, min=%.3f, max=%.3f mean=%.3f stddev=%.3f' % (batchX.shape, batchX.min(), batchX.max(),\n",
        "                                                                    batchX.mean(), batchX.std()))\n",
        "\n",
        "batchX, batchy = validation_generator.next()\n",
        "print('Batch shape=%s, min=%.3f, max=%.3f mean=%.3f stddev=%.3f' % (batchX.shape, batchX.min(), batchX.max(),\n",
        "                                                                    batchX.mean(), batchX.std()))"
      ],
      "metadata": {
        "colab": {
          "base_uri": "https://localhost:8080/"
        },
        "id": "B1-hIypT-hiK",
        "outputId": "91580677-fef6-4370-db11-1de60683598d"
      },
      "execution_count": 127,
      "outputs": [
        {
          "output_type": "stream",
          "name": "stdout",
          "text": [
            "Found 2000 images belonging to 2 classes.\n",
            "Found 1000 images belonging to 2 classes.\n",
            "Batches train=1, test=1\n",
            "Batch shape=(2000, 150, 150, 3), min=0.000, max=255.000 mean=114.850\n",
            "Batch shape=(1000, 150, 150, 3), min=0.000, max=255.000 mean=115.987\n",
            "(2000, 150, 150, 3)\n",
            "(1000, 150, 150, 3)\n",
            "train_datagen mean [[[95.44372 95.44372 95.44372]]]\n",
            "test_datagen mean [[[125.31679 115.11181 104.2717 ]]]\n",
            "Found 2000 images belonging to 2 classes.\n",
            "Found 1000 images belonging to 2 classes.\n",
            "Batch shape=(20, 150, 150, 3), min=-1.574, max=2.631 mean=0.430 stddev=1.051\n",
            "Batch shape=(20, 150, 150, 3), min=-1.910, max=2.348 mean=0.098 stddev=0.928\n"
          ]
        }
      ]
    },
    {
      "cell_type": "code",
      "source": [
        "# Train the model\n",
        "model = create_model()\n",
        "history = model.fit(\n",
        "      train_generator,\n",
        "      steps_per_epoch=train_steps_per_epoch,  # 2000 images = batch_size * steps\n",
        "      epochs=EPOCHS,\n",
        "      validation_data=validation_generator,\n",
        "      validation_steps=validation_steps_per_epoch,  # 1000 images = batch_size * steps\n",
        "      verbose=2)"
      ],
      "metadata": {
        "colab": {
          "base_uri": "https://localhost:8080/"
        },
        "id": "f-Y_Sb2bC5O2",
        "outputId": "42549176-80ed-4a90-e986-ed626badd1bc"
      },
      "execution_count": 128,
      "outputs": [
        {
          "output_type": "stream",
          "name": "stdout",
          "text": [
            "Epoch 1/20\n",
            "100/100 - 10s - loss: 0.6775 - accuracy: 0.5760 - val_loss: 0.6333 - val_accuracy: 0.6240 - 10s/epoch - 105ms/step\n",
            "Epoch 2/20\n",
            "100/100 - 10s - loss: 0.6287 - accuracy: 0.6465 - val_loss: 0.6105 - val_accuracy: 0.6640 - 10s/epoch - 95ms/step\n",
            "Epoch 3/20\n",
            "100/100 - 10s - loss: 0.5670 - accuracy: 0.7050 - val_loss: 0.5775 - val_accuracy: 0.6960 - 10s/epoch - 101ms/step\n",
            "Epoch 4/20\n",
            "100/100 - 10s - loss: 0.5092 - accuracy: 0.7545 - val_loss: 0.5660 - val_accuracy: 0.6960 - 10s/epoch - 98ms/step\n",
            "Epoch 5/20\n",
            "100/100 - 10s - loss: 0.4625 - accuracy: 0.7770 - val_loss: 0.6156 - val_accuracy: 0.6690 - 10s/epoch - 101ms/step\n",
            "Epoch 6/20\n",
            "100/100 - 10s - loss: 0.4113 - accuracy: 0.8295 - val_loss: 0.5498 - val_accuracy: 0.7050 - 10s/epoch - 100ms/step\n",
            "Epoch 7/20\n",
            "100/100 - 10s - loss: 0.3609 - accuracy: 0.8480 - val_loss: 0.6009 - val_accuracy: 0.7060 - 10s/epoch - 99ms/step\n",
            "Epoch 8/20\n",
            "100/100 - 10s - loss: 0.3213 - accuracy: 0.8665 - val_loss: 0.5682 - val_accuracy: 0.7270 - 10s/epoch - 99ms/step\n",
            "Epoch 9/20\n",
            "100/100 - 10s - loss: 0.2751 - accuracy: 0.8920 - val_loss: 0.5822 - val_accuracy: 0.7240 - 10s/epoch - 96ms/step\n",
            "Epoch 10/20\n",
            "100/100 - 10s - loss: 0.2422 - accuracy: 0.9085 - val_loss: 0.5998 - val_accuracy: 0.7140 - 10s/epoch - 97ms/step\n",
            "Epoch 11/20\n",
            "100/100 - 10s - loss: 0.2010 - accuracy: 0.9285 - val_loss: 0.6578 - val_accuracy: 0.7210 - 10s/epoch - 95ms/step\n",
            "Epoch 12/20\n",
            "100/100 - 10s - loss: 0.1647 - accuracy: 0.9445 - val_loss: 0.6299 - val_accuracy: 0.7230 - 10s/epoch - 96ms/step\n",
            "Epoch 13/20\n",
            "100/100 - 10s - loss: 0.1362 - accuracy: 0.9590 - val_loss: 0.6548 - val_accuracy: 0.7360 - 10s/epoch - 96ms/step\n",
            "Epoch 14/20\n",
            "100/100 - 10s - loss: 0.1084 - accuracy: 0.9675 - val_loss: 0.7571 - val_accuracy: 0.7120 - 10s/epoch - 96ms/step\n",
            "Epoch 15/20\n",
            "100/100 - 10s - loss: 0.0809 - accuracy: 0.9770 - val_loss: 0.8022 - val_accuracy: 0.7090 - 10s/epoch - 95ms/step\n",
            "Epoch 16/20\n",
            "100/100 - 10s - loss: 0.0686 - accuracy: 0.9810 - val_loss: 0.8376 - val_accuracy: 0.7210 - 10s/epoch - 97ms/step\n",
            "Epoch 17/20\n",
            "100/100 - 10s - loss: 0.0495 - accuracy: 0.9875 - val_loss: 0.9389 - val_accuracy: 0.7150 - 10s/epoch - 104ms/step\n",
            "Epoch 18/20\n",
            "100/100 - 10s - loss: 0.0450 - accuracy: 0.9900 - val_loss: 0.9423 - val_accuracy: 0.7270 - 10s/epoch - 97ms/step\n",
            "Epoch 19/20\n",
            "100/100 - 10s - loss: 0.0398 - accuracy: 0.9875 - val_loss: 0.9471 - val_accuracy: 0.7100 - 10s/epoch - 98ms/step\n",
            "Epoch 20/20\n",
            "100/100 - 10s - loss: 0.0314 - accuracy: 0.9930 - val_loss: 0.9565 - val_accuracy: 0.7070 - 10s/epoch - 97ms/step\n"
          ]
        }
      ]
    },
    {
      "cell_type": "code",
      "source": [
        "# Plot training results\n",
        "plot_loss_acc(history)"
      ],
      "metadata": {
        "colab": {
          "base_uri": "https://localhost:8080/",
          "height": 545
        },
        "id": "3Rd5PL7yDOWi",
        "outputId": "bd0d52f7-cf04-4024-f380-16bffe56b15c"
      },
      "execution_count": 129,
      "outputs": [
        {
          "output_type": "display_data",
          "data": {
            "text/plain": [
              "<Figure size 432x288 with 1 Axes>"
            ],
            "image/png": "[encoded data removed]"
          },
          "metadata": {
            "needs_background": "light"
          }
        },
        {
          "output_type": "display_data",
          "data": {
            "text/plain": [
              "<Figure size 432x288 with 1 Axes>"
            ],
            "image/png": "[encoded data removed]"
          },
          "metadata": {
            "needs_background": "light"
          }
        }
      ]
    },
    {
      "cell_type": "markdown",
      "source": [
        "roughly the same result as before"
      ],
      "metadata": {
        "id": "LGwj-L_zEwoB"
      }
    },
    {
      "cell_type": "markdown",
      "source": [
        "#### sample-wise standardization"
      ],
      "metadata": {
        "id": "uX2jyhq6E0Od"
      }
    },
    {
      "cell_type": "code",
      "source": [
        "# create generator that standardize pixel values\n",
        "train_datagen = ImageDataGenerator( samplewise_center=True, samplewise_std_normalization=True )\n",
        "test_datagen  = ImageDataGenerator( samplewise_center=True, samplewise_std_normalization=True )\n",
        "print(batchX_train.shape)\n",
        "print(batchX_validation.shape)\n",
        "\n",
        "\n",
        "# print the mean calculated on the training dataset.\n",
        "print('train_datagen mean',  train_datagen.mean)\n",
        "print('test_datagen mean',  test_datagen.mean)\n",
        "\n",
        "\n",
        "# --------------------\n",
        "# Flow training images in batches of 20 using train_datagen generator\n",
        "# --------------------\n",
        "train_generator = train_datagen.flow_from_directory(train_dir,\n",
        "                                                    batch_size=20,\n",
        "                                                    class_mode='binary',\n",
        "                                                    target_size=(150, 150))     \n",
        "# --------------------\n",
        "# Flow validation images in batches of 20 using test_datagen generator\n",
        "# --------------------\n",
        "validation_generator =  test_datagen.flow_from_directory(validation_dir,\n",
        "                                                         batch_size=20,\n",
        "                                                         class_mode  = 'binary',\n",
        "                                                         target_size = (150, 150))\n",
        "\n",
        "\n",
        "batchX, batchy = train_generator.next()\n",
        "print('Batch shape=%s, min=%.3f, max=%.3f mean=%.3f stddev=%.3f' % (batchX.shape, batchX.min(), batchX.max(),\n",
        "                                                                    batchX.mean(), batchX.std()))\n",
        "\n",
        "batchX, batchy = validation_generator.next()\n",
        "print('Batch shape=%s, min=%.3f, max=%.3f mean=%.3f stddev=%.3f' % (batchX.shape, batchX.min(), batchX.max(),\n",
        "                                                                    batchX.mean(), batchX.std()))"
      ],
      "metadata": {
        "colab": {
          "base_uri": "https://localhost:8080/"
        },
        "id": "NjMDPbU2EzTz",
        "outputId": "ec94c8a0-a75c-46d5-ac2d-3e1bd59c4d1a"
      },
      "execution_count": 130,
      "outputs": [
        {
          "output_type": "stream",
          "name": "stdout",
          "text": [
            "(2000, 150, 150, 3)\n",
            "(1000, 150, 150, 3)\n",
            "train_datagen mean None\n",
            "test_datagen mean None\n",
            "Found 2000 images belonging to 2 classes.\n",
            "Found 1000 images belonging to 2 classes.\n",
            "Batch shape=(20, 150, 150, 3), min=-3.597, max=4.949 mean=0.000 stddev=1.000\n",
            "Batch shape=(20, 150, 150, 3), min=-5.112, max=5.364 mean=0.000 stddev=1.000\n"
          ]
        }
      ]
    },
    {
      "cell_type": "code",
      "source": [
        "# Train the model\n",
        "model = create_model()\n",
        "history = model.fit(\n",
        "      train_generator,\n",
        "      steps_per_epoch=train_steps_per_epoch,  # 2000 images = batch_size * steps\n",
        "      epochs=EPOCHS,\n",
        "      validation_data=validation_generator,\n",
        "      validation_steps=validation_steps_per_epoch,  # 1000 images = batch_size * steps\n",
        "      verbose=2)"
      ],
      "metadata": {
        "colab": {
          "base_uri": "https://localhost:8080/"
        },
        "id": "6VrQWe74F690",
        "outputId": "298a1e5c-81e9-4e51-8450-d3414dfc1821"
      },
      "execution_count": 131,
      "outputs": [
        {
          "output_type": "stream",
          "name": "stdout",
          "text": [
            "Epoch 1/20\n",
            "100/100 - 10s - loss: 0.6783 - accuracy: 0.5730 - val_loss: 0.6307 - val_accuracy: 0.6250 - 10s/epoch - 104ms/step\n",
            "Epoch 2/20\n",
            "100/100 - 9s - loss: 0.6113 - accuracy: 0.6635 - val_loss: 0.7233 - val_accuracy: 0.5850 - 9s/epoch - 93ms/step\n",
            "Epoch 3/20\n",
            "100/100 - 9s - loss: 0.5533 - accuracy: 0.7175 - val_loss: 0.6977 - val_accuracy: 0.6100 - 9s/epoch - 93ms/step\n",
            "Epoch 4/20\n",
            "100/100 - 9s - loss: 0.4993 - accuracy: 0.7600 - val_loss: 0.5686 - val_accuracy: 0.7120 - 9s/epoch - 93ms/step\n",
            "Epoch 5/20\n",
            "100/100 - 9s - loss: 0.4401 - accuracy: 0.8035 - val_loss: 0.5836 - val_accuracy: 0.6840 - 9s/epoch - 94ms/step\n",
            "Epoch 6/20\n",
            "100/100 - 9s - loss: 0.3850 - accuracy: 0.8340 - val_loss: 0.5956 - val_accuracy: 0.6950 - 9s/epoch - 92ms/step\n",
            "Epoch 7/20\n",
            "100/100 - 9s - loss: 0.3408 - accuracy: 0.8545 - val_loss: 0.5392 - val_accuracy: 0.7300 - 9s/epoch - 94ms/step\n",
            "Epoch 8/20\n",
            "100/100 - 9s - loss: 0.2949 - accuracy: 0.8785 - val_loss: 0.6025 - val_accuracy: 0.7170 - 9s/epoch - 93ms/step\n",
            "Epoch 9/20\n",
            "100/100 - 9s - loss: 0.2510 - accuracy: 0.9060 - val_loss: 0.5635 - val_accuracy: 0.7240 - 9s/epoch - 94ms/step\n",
            "Epoch 10/20\n",
            "100/100 - 9s - loss: 0.2049 - accuracy: 0.9240 - val_loss: 0.6137 - val_accuracy: 0.7310 - 9s/epoch - 94ms/step\n",
            "Epoch 11/20\n",
            "100/100 - 9s - loss: 0.1661 - accuracy: 0.9415 - val_loss: 0.6626 - val_accuracy: 0.7310 - 9s/epoch - 93ms/step\n",
            "Epoch 12/20\n",
            "100/100 - 9s - loss: 0.1304 - accuracy: 0.9555 - val_loss: 0.6426 - val_accuracy: 0.7240 - 9s/epoch - 93ms/step\n",
            "Epoch 13/20\n",
            "100/100 - 9s - loss: 0.1077 - accuracy: 0.9720 - val_loss: 0.6715 - val_accuracy: 0.7300 - 9s/epoch - 93ms/step\n",
            "Epoch 14/20\n",
            "100/100 - 9s - loss: 0.0744 - accuracy: 0.9810 - val_loss: 0.9010 - val_accuracy: 0.7220 - 9s/epoch - 93ms/step\n",
            "Epoch 15/20\n",
            "100/100 - 9s - loss: 0.0637 - accuracy: 0.9830 - val_loss: 0.7657 - val_accuracy: 0.7240 - 9s/epoch - 95ms/step\n",
            "Epoch 16/20\n",
            "100/100 - 9s - loss: 0.0503 - accuracy: 0.9865 - val_loss: 0.8211 - val_accuracy: 0.7310 - 9s/epoch - 93ms/step\n",
            "Epoch 17/20\n",
            "100/100 - 9s - loss: 0.0347 - accuracy: 0.9895 - val_loss: 0.9017 - val_accuracy: 0.7230 - 9s/epoch - 95ms/step\n",
            "Epoch 18/20\n",
            "100/100 - 9s - loss: 0.0344 - accuracy: 0.9895 - val_loss: 0.8945 - val_accuracy: 0.7300 - 9s/epoch - 94ms/step\n",
            "Epoch 19/20\n",
            "100/100 - 10s - loss: 0.0274 - accuracy: 0.9920 - val_loss: 0.9492 - val_accuracy: 0.7310 - 10s/epoch - 97ms/step\n",
            "Epoch 20/20\n",
            "100/100 - 10s - loss: 0.0198 - accuracy: 0.9935 - val_loss: 1.0029 - val_accuracy: 0.7250 - 10s/epoch - 97ms/step\n"
          ]
        }
      ]
    },
    {
      "cell_type": "code",
      "source": [
        "# Plot training results\n",
        "plot_loss_acc(history)"
      ],
      "metadata": {
        "colab": {
          "base_uri": "https://localhost:8080/",
          "height": 545
        },
        "id": "r0QS8hivGBkA",
        "outputId": "ebedf991-1111-4bce-fea6-0e460898f31f"
      },
      "execution_count": 132,
      "outputs": [
        {
          "output_type": "display_data",
          "data": {
            "text/plain": [
              "<Figure size 432x288 with 1 Axes>"
            ],
            "image/png": "[encoded data removed]"
          },
          "metadata": {
            "needs_background": "light"
          }
        },
        {
          "output_type": "display_data",
          "data": {
            "text/plain": [
              "<Figure size 432x288 with 1 Axes>"
            ],
            "image/png": "[encoded data removed]"
          },
          "metadata": {
            "needs_background": "light"
          }
        }
      ]
    }
  ]
}