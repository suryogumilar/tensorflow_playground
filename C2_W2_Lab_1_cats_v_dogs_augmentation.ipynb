{
  "nbformat": 4,
  "nbformat_minor": 0,
  "metadata": {
    "colab": {
      "provenance": [],
      "authorship_tag": "ABX9TyOLPqvnJWlaYADDX80Igf3a"
    },
    "kernelspec": {
      "name": "python3",
      "display_name": "Python 3"
    },
    "language_info": {
      "name": "python"
    },
    "accelerator": "GPU",
    "gpuClass": "standard"
  },
  "cells": [
    {
      "cell_type": "markdown",
      "source": [
        "# Data Augmentation\n",
        "\n",
        "one method to solve overfitting is data augmentation. Overfitting happens when the model have strong recognizion only on the training data set but fails in recognizing the data outside the training set. It can happens if the training set data size is too small compared the real life dataset. \n",
        "\n",
        "We can simulate real life data by augmenting the training set by applying different preprocessing techniques such as rotate, flip, shear, or zoom on existing training images so we can simulate other data that the model should also learn from. This way, the model would see more variety in the images during training so it will infer better on new, previously unseen data.\n",
        "\n",
        "ref:\n",
        " - https://github.com/https-deeplearning-ai/tensorflow-1-public/blob/main/C2/W2/ungraded_labs/C2_W2_Lab_1_cats_v_dogs_augmentation.ipynb\n",
        " - https://www.coursera.org/learn/convolutional-neural-networks-tensorflow/lecture/kiCPT/coding-augmentation-with-imagedatagenerator"
      ],
      "metadata": {
        "id": "5mLEK-LpLt1R"
      }
    },
    {
      "cell_type": "code",
      "execution_count": 1,
      "metadata": {
        "id": "yIMHHVgxLlKh"
      },
      "outputs": [],
      "source": [
        "import zipfile\n",
        "import os\n",
        "import tensorflow as tf\n",
        "from tensorflow.keras.optimizers import RMSprop\n",
        "from tensorflow.keras.preprocessing.image import ImageDataGenerator\n",
        "from tensorflow.keras.preprocessing import image_dataset_from_directory # 'tis a function\n",
        "from tensorflow.keras.utils import load_img, img_to_array\n",
        "import matplotlib.pyplot as plt\n",
        "import matplotlib.image as mpimg\n",
        "import numpy as np\n",
        "from google.colab import files"
      ]
    },
    {
      "cell_type": "code",
      "source": [
        "!wget --no-check-certificate https://storage.googleapis.com/mledu-datasets/cats_and_dogs_filtered.zip"
      ],
      "metadata": {
        "colab": {
          "base_uri": "https://localhost:8080/"
        },
        "id": "3nZgoBO2NR_X",
        "outputId": "059c5f27-670e-4297-b5ac-fad86a0512ac"
      },
      "execution_count": 2,
      "outputs": [
        {
          "output_type": "stream",
          "name": "stdout",
          "text": [
            "--2022-12-20 11:06:15--  https://storage.googleapis.com/mledu-datasets/cats_and_dogs_filtered.zip\n",
            "Resolving storage.googleapis.com (storage.googleapis.com)... 172.217.0.48, 172.217.1.208, 142.251.163.128, ...\n",
            "Connecting to storage.googleapis.com (storage.googleapis.com)|172.217.0.48|:443... connected.\n",
            "HTTP request sent, awaiting response... 200 OK\n",
            "Length: 68606236 (65M) [application/zip]\n",
            "Saving to: ‘cats_and_dogs_filtered.zip’\n",
            "\n",
            "cats_and_dogs_filte 100%[===================>]  65.43M   243MB/s    in 0.3s    \n",
            "\n",
            "2022-12-20 11:06:16 (243 MB/s) - ‘cats_and_dogs_filtered.zip’ saved [68606236/68606236]\n",
            "\n"
          ]
        }
      ]
    },
    {
      "cell_type": "code",
      "source": [
        "# Unzip the archive\n",
        "local_zip = './cats_and_dogs_filtered.zip'\n",
        "zip_ref = zipfile.ZipFile(local_zip, 'r')\n",
        "zip_ref.extractall()\n",
        "\n",
        "zip_ref.close()"
      ],
      "metadata": {
        "id": "pX2LarKsNqat"
      },
      "execution_count": 3,
      "outputs": []
    },
    {
      "cell_type": "code",
      "source": [
        "base_dir = 'cats_and_dogs_filtered'\n",
        "train_dir = os.path.join(base_dir, 'train')\n",
        "validation_dir = os.path.join(base_dir, 'validation')\n",
        "\n",
        "# Directory with training cat/dog pictures\n",
        "train_cats_dir = os.path.join(train_dir, 'cats')\n",
        "train_dogs_dir = os.path.join(train_dir, 'dogs')\n",
        "\n",
        "# Directory with validation cat/dog pictures\n",
        "validation_cats_dir = os.path.join(validation_dir, 'cats')\n",
        "validation_dogs_dir = os.path.join(validation_dir, 'dogs')\n",
        "\n",
        "print('base dir is:', base_dir)\n",
        "print('')\n",
        "\n",
        "print('train dir is :', train_dir)\n",
        "print('validation dir is :', validation_dir)\n",
        "\n",
        "print('')\n",
        "print('train cats dir is:', train_cats_dir)\n",
        "print('train dogs dir is:', train_dogs_dir)\n",
        "\n",
        "print()\n",
        "print('validation cats dir:', validation_cats_dir)\n",
        "print('validation dogs dir:', validation_dogs_dir)\n"
      ],
      "metadata": {
        "colab": {
          "base_uri": "https://localhost:8080/"
        },
        "id": "8oHoP_RFNqyt",
        "outputId": "4fa5e5a3-9b2a-4b5a-8f7c-c6a94d81e7ea"
      },
      "execution_count": 4,
      "outputs": [
        {
          "output_type": "stream",
          "name": "stdout",
          "text": [
            "base dir is: cats_and_dogs_filtered\n",
            "\n",
            "train dir is : cats_and_dogs_filtered/train\n",
            "validation dir is : cats_and_dogs_filtered/validation\n",
            "\n",
            "train cats dir is: cats_and_dogs_filtered/train/cats\n",
            "train dogs dir is: cats_and_dogs_filtered/train/dogs\n",
            "\n",
            "validation cats dir: cats_and_dogs_filtered/validation/cats\n",
            "validation dogs dir: cats_and_dogs_filtered/validation/dogs\n"
          ]
        }
      ]
    },
    {
      "cell_type": "markdown",
      "source": [
        "## Using samplewise pixel standardization with augmentation\n",
        "\n",
        "There are other properties on it that we can use to augment the image.\n",
        "\n",
        "```python\n",
        "# Updated to do image augmentation\n",
        "train_datagen = ImageDataGenerator(\n",
        "      rotation_range=40,\n",
        "      width_shift_range=0.2,\n",
        "      height_shift_range=0.2,\n",
        "      shear_range=0.2,\n",
        "      zoom_range=0.2,\n",
        "      horizontal_flip=True,\n",
        "      fill_mode='nearest')\n",
        "```\n",
        "\n",
        "These are just a few of the options available. Let's quickly go over it:\n",
        "\n",
        " - `rotation_range` is a value in degrees (0–180) within which to randomly rotate pictures.\n",
        " - `width_shift` and `height_shift` are ranges (as a fraction of total width or height) within which to randomly translate pictures vertically or horizontally.\n",
        " - `shear_range` is for randomly applying shearing transformations.\n",
        " - `zoom_range` is for randomly zooming inside pictures.\n",
        " - `horizontal_flip` is for randomly flipping half of the images horizontally. This is relevant when there are no assumptions of horizontal assymmetry (e.g. real-world pictures).\n",
        " - `fill_mode` is the strategy used for filling in newly created pixels, which can appear after a rotation or a width/\n"
      ],
      "metadata": {
        "id": "OsuuyuJ6NyYH"
      }
    },
    {
      "cell_type": "code",
      "source": [
        "# create generator that standardize pixel values\n",
        "train_datagen = ImageDataGenerator( samplewise_center=True, samplewise_std_normalization=True,\n",
        "                                   rotation_range=40,\n",
        "                                   width_shift_range=0.2,\n",
        "                                   height_shift_range=0.2,\n",
        "                                   shear_range=0.2,\n",
        "                                   zoom_range=0.2,\n",
        "                                   horizontal_flip=True,\n",
        "                                   fill_mode='nearest')\n",
        "# of course we don't augment the validation dataset because it supposedly reflect outside or real life data\n",
        "test_datagen  = ImageDataGenerator( samplewise_center=True, samplewise_std_normalization=True )\n",
        "\n",
        "# Flow training images in batches of 20 using train_datagen generator\n",
        "train_generator = train_datagen.flow_from_directory(\n",
        "        train_dir,  # This is the source directory for training images\n",
        "        target_size=(150, 150),  # All images will be resized to 150x150\n",
        "        batch_size=20,\n",
        "        # Since we use binary_crossentropy loss, we need binary labels\n",
        "        class_mode='binary')\n",
        "\n",
        "# Flow validation images in batches of 20 using test_datagen generator\n",
        "validation_generator = test_datagen.flow_from_directory(\n",
        "        validation_dir,\n",
        "        target_size=(150, 150),\n",
        "        batch_size=20,\n",
        "        class_mode='binary')"
      ],
      "metadata": {
        "colab": {
          "base_uri": "https://localhost:8080/"
        },
        "id": "KGbxtDhRNyD_",
        "outputId": "9cb7f362-2b56-4b7a-ab34-6ead2aced803"
      },
      "execution_count": 5,
      "outputs": [
        {
          "output_type": "stream",
          "name": "stdout",
          "text": [
            "Found 2000 images belonging to 2 classes.\n",
            "Found 1000 images belonging to 2 classes.\n"
          ]
        }
      ]
    },
    {
      "cell_type": "markdown",
      "source": [
        "## model"
      ],
      "metadata": {
        "id": "cA9rc2jxUkXE"
      }
    },
    {
      "cell_type": "code",
      "source": [
        "def create_model():\n",
        "  ## set seed so that model has same 'common ground' (it node's weight and bias are the same value on each creation)\n",
        "  tf.random.set_seed(10)\n",
        "  '''Creates a CNN with 4 convolutional layers'''\n",
        "  model = tf.keras.models.Sequential([\n",
        "      tf.keras.layers.Conv2D(32, (3,3), activation='relu', input_shape=(150, 150, 3)),\n",
        "      tf.keras.layers.MaxPooling2D(2, 2),\n",
        "      tf.keras.layers.Conv2D(64, (3,3), activation='relu'),\n",
        "      tf.keras.layers.MaxPooling2D(2,2),\n",
        "      tf.keras.layers.Conv2D(128, (3,3), activation='relu'),\n",
        "      tf.keras.layers.MaxPooling2D(2,2),\n",
        "      tf.keras.layers.Conv2D(128, (3,3), activation='relu'),\n",
        "      tf.keras.layers.MaxPooling2D(2,2),\n",
        "      tf.keras.layers.Flatten(),\n",
        "      tf.keras.layers.Dense(512, activation='relu'),\n",
        "      tf.keras.layers.Dense(1, activation='sigmoid')\n",
        "  ])\n",
        "\n",
        "  model.compile(loss='binary_crossentropy',\n",
        "                optimizer=RMSprop(learning_rate=1e-4),\n",
        "                metrics=['accuracy'])\n",
        "  \n",
        "  return model\n",
        "\n",
        "\n",
        "def plot_loss_acc(history):\n",
        "  '''Plots the training and validation loss and accuracy from a history object'''\n",
        "  acc = history.history['accuracy']\n",
        "  val_acc = history.history['val_accuracy']\n",
        "  loss = history.history['loss']\n",
        "  val_loss = history.history['val_loss']\n",
        "\n",
        "  epochs = range(len(acc))\n",
        "\n",
        "  plt.plot(epochs, acc, 'bo', label='Training accuracy')\n",
        "  plt.plot(epochs, val_acc, 'b', label='Validation accuracy')\n",
        "  plt.title('Training and validation accuracy')\n",
        "\n",
        "  plt.figure()\n",
        "\n",
        "  plt.plot(epochs, loss, 'bo', label='Training Loss')\n",
        "  plt.plot(epochs, val_loss, 'b', label='Validation Loss')\n",
        "  plt.title('Training and validation loss')\n",
        "  plt.legend()\n",
        "\n",
        "  plt.show()  "
      ],
      "metadata": {
        "id": "7-IPavOLNtYe"
      },
      "execution_count": 6,
      "outputs": []
    },
    {
      "cell_type": "code",
      "source": [
        "# Constant for epochs\n",
        "EPOCHS = 20\n",
        "\n",
        "train_steps_per_epoch = len(train_generator.labels)/train_generator.batch_size\n",
        "validation_steps_per_epoch = len(validation_generator.labels)/validation_generator.batch_size\n",
        "\n",
        "print('train_steps_per_epoch:', train_steps_per_epoch )\n",
        "\n",
        "print('validation_steps_per_epoch:', validation_steps_per_epoch )"
      ],
      "metadata": {
        "colab": {
          "base_uri": "https://localhost:8080/"
        },
        "id": "0L5gEM2PVANU",
        "outputId": "22dbd738-0a6a-42e8-a7d0-114399b687d6"
      },
      "execution_count": 7,
      "outputs": [
        {
          "output_type": "stream",
          "name": "stdout",
          "text": [
            "train_steps_per_epoch: 100.0\n",
            "validation_steps_per_epoch: 50.0\n"
          ]
        }
      ]
    },
    {
      "cell_type": "code",
      "source": [
        "# Create new model\n",
        "model = create_model()\n",
        "# Train the model\n",
        "history = model.fit(\n",
        "      train_generator,\n",
        "      steps_per_epoch=train_steps_per_epoch,  # 2000 images = batch_size * steps\n",
        "      epochs=EPOCHS,\n",
        "      validation_data=validation_generator,\n",
        "      validation_steps=validation_steps_per_epoch,  # 1000 images = batch_size * steps\n",
        "      verbose=2)\n"
      ],
      "metadata": {
        "colab": {
          "base_uri": "https://localhost:8080/"
        },
        "id": "3u-ha1bQUuMP",
        "outputId": "14fe8d79-8050-43d7-9495-9fdf066a0a83"
      },
      "execution_count": 8,
      "outputs": [
        {
          "output_type": "stream",
          "name": "stdout",
          "text": [
            "Epoch 1/20\n",
            "100/100 - 26s - loss: 0.6866 - accuracy: 0.5475 - val_loss: 0.6547 - val_accuracy: 0.5870 - 26s/epoch - 264ms/step\n",
            "Epoch 2/20\n",
            "100/100 - 18s - loss: 0.6603 - accuracy: 0.5950 - val_loss: 0.6490 - val_accuracy: 0.6310 - 18s/epoch - 175ms/step\n",
            "Epoch 3/20\n",
            "100/100 - 18s - loss: 0.6489 - accuracy: 0.6180 - val_loss: 0.6165 - val_accuracy: 0.6630 - 18s/epoch - 182ms/step\n",
            "Epoch 4/20\n",
            "100/100 - 18s - loss: 0.6335 - accuracy: 0.6380 - val_loss: 0.6054 - val_accuracy: 0.6820 - 18s/epoch - 181ms/step\n",
            "Epoch 5/20\n",
            "100/100 - 18s - loss: 0.6274 - accuracy: 0.6355 - val_loss: 0.5844 - val_accuracy: 0.6870 - 18s/epoch - 181ms/step\n",
            "Epoch 6/20\n",
            "100/100 - 19s - loss: 0.6061 - accuracy: 0.6510 - val_loss: 0.5764 - val_accuracy: 0.6840 - 19s/epoch - 188ms/step\n",
            "Epoch 7/20\n",
            "100/100 - 18s - loss: 0.5862 - accuracy: 0.6875 - val_loss: 0.5660 - val_accuracy: 0.7040 - 18s/epoch - 180ms/step\n",
            "Epoch 8/20\n",
            "100/100 - 18s - loss: 0.5962 - accuracy: 0.6725 - val_loss: 0.5543 - val_accuracy: 0.7150 - 18s/epoch - 176ms/step\n",
            "Epoch 9/20\n",
            "100/100 - 17s - loss: 0.5824 - accuracy: 0.6845 - val_loss: 0.5462 - val_accuracy: 0.7270 - 17s/epoch - 175ms/step\n",
            "Epoch 10/20\n",
            "100/100 - 18s - loss: 0.5696 - accuracy: 0.6825 - val_loss: 0.5276 - val_accuracy: 0.7440 - 18s/epoch - 178ms/step\n",
            "Epoch 11/20\n",
            "100/100 - 18s - loss: 0.5625 - accuracy: 0.7010 - val_loss: 0.5235 - val_accuracy: 0.7350 - 18s/epoch - 185ms/step\n",
            "Epoch 12/20\n",
            "100/100 - 18s - loss: 0.5504 - accuracy: 0.7235 - val_loss: 0.5219 - val_accuracy: 0.7510 - 18s/epoch - 177ms/step\n",
            "Epoch 13/20\n",
            "100/100 - 18s - loss: 0.5437 - accuracy: 0.7235 - val_loss: 0.5253 - val_accuracy: 0.7330 - 18s/epoch - 178ms/step\n",
            "Epoch 14/20\n",
            "100/100 - 18s - loss: 0.5329 - accuracy: 0.7230 - val_loss: 0.5112 - val_accuracy: 0.7430 - 18s/epoch - 176ms/step\n",
            "Epoch 15/20\n",
            "100/100 - 18s - loss: 0.5329 - accuracy: 0.7365 - val_loss: 0.5552 - val_accuracy: 0.7260 - 18s/epoch - 176ms/step\n",
            "Epoch 16/20\n",
            "100/100 - 18s - loss: 0.5351 - accuracy: 0.7270 - val_loss: 0.5315 - val_accuracy: 0.7460 - 18s/epoch - 176ms/step\n",
            "Epoch 17/20\n",
            "100/100 - 18s - loss: 0.5320 - accuracy: 0.7205 - val_loss: 0.5170 - val_accuracy: 0.7410 - 18s/epoch - 178ms/step\n",
            "Epoch 18/20\n",
            "100/100 - 18s - loss: 0.5265 - accuracy: 0.7270 - val_loss: 0.4966 - val_accuracy: 0.7620 - 18s/epoch - 176ms/step\n",
            "Epoch 19/20\n",
            "100/100 - 18s - loss: 0.5172 - accuracy: 0.7530 - val_loss: 0.4919 - val_accuracy: 0.7640 - 18s/epoch - 177ms/step\n",
            "Epoch 20/20\n",
            "100/100 - 18s - loss: 0.5249 - accuracy: 0.7350 - val_loss: 0.5238 - val_accuracy: 0.7420 - 18s/epoch - 177ms/step\n"
          ]
        }
      ]
    },
    {
      "cell_type": "code",
      "source": [
        "# Plot the results of training with data augmentation\n",
        "plot_loss_acc(history)"
      ],
      "metadata": {
        "colab": {
          "base_uri": "https://localhost:8080/",
          "height": 545
        },
        "id": "uxz6r5yaW8to",
        "outputId": "2fd8280c-295e-4550-90cb-2af9a255a57b"
      },
      "execution_count": 9,
      "outputs": [
        {
          "output_type": "display_data",
          "data": {
            "text/plain": [
              "<Figure size 432x288 with 1 Axes>"
            ],
            "image/png": "[encoded data removed]"
          },
          "metadata": {
            "needs_background": "light"
          }
        },
        {
          "output_type": "display_data",
          "data": {
            "text/plain": [
              "<Figure size 432x288 with 1 Axes>"
            ],
            "image/png": "[encoded data removed]"
          },
          "metadata": {
            "needs_background": "light"
          }
        }
      ]
    },
    {
      "cell_type": "markdown",
      "source": [
        "the training accuracy has gone down compared to the baseline. This is expected because (as a result of data augmentation) there are more variety in the images so the model will need more runs to learn from them. The good thing is the validation accuracy is no longer stalling and is more in line with the training results. This means that the model is now performing better on unseen data.\n"
      ],
      "metadata": {
        "id": "rx_jLzEBXXAq"
      }
    }
  ]
}